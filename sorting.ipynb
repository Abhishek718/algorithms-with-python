{
 "cells": [
  {
   "cell_type": "markdown",
   "metadata": {},
   "source": [
    "# Selection Sorting"
   ]
  },
  {
   "cell_type": "code",
   "execution_count": 34,
   "metadata": {},
   "outputs": [],
   "source": [
    "lis = [9,8,7,6,5,4,88,99,101,20,500,600,800]"
   ]
  },
  {
   "cell_type": "code",
   "execution_count": 35,
   "metadata": {},
   "outputs": [],
   "source": [
    "# lis = []\n",
    "# print(\"Enter the no. of items: \")\n",
    "# N = int(input())\n",
    "# for i in range(N):\n",
    "#     lis.append(int(input()))"
   ]
  },
  {
   "cell_type": "code",
   "execution_count": 36,
   "metadata": {},
   "outputs": [
    {
     "name": "stdout",
     "output_type": "stream",
     "text": [
      "[4, 5, 6, 7, 8, 9, 20, 88, 99, 101, 500, 600, 800]\n"
     ]
    }
   ],
   "source": [
    "for i in range(len(lis)):\n",
    "    m = i\n",
    "    for j in range(i+1,len(lis)):\n",
    "        if lis[i]>lis[j]:\n",
    "            m=j\n",
    "#     print(j,m)\n",
    "    lis[i],lis[m]=lis[m],lis[i]\n",
    "print(lis)"
   ]
  },
  {
   "cell_type": "markdown",
   "metadata": {},
   "source": [
    "# Bubble Sort "
   ]
  },
  {
   "cell_type": "code",
   "execution_count": 37,
   "metadata": {},
   "outputs": [],
   "source": [
    "lis = [9,8,7,6,5,4,88,99,101,20,500,600,800]"
   ]
  },
  {
   "cell_type": "code",
   "execution_count": 38,
   "metadata": {},
   "outputs": [],
   "source": [
    "# lis = []\n",
    "# print(\"Enter the no. of items: \")\n",
    "# N = int(input())\n",
    "# for i in range(N):\n",
    "#     lis.append(int(input()))"
   ]
  },
  {
   "cell_type": "code",
   "execution_count": 40,
   "metadata": {},
   "outputs": [
    {
     "name": "stdout",
     "output_type": "stream",
     "text": [
      "[4, 5, 6, 7, 8, 9, 20, 88, 99, 101, 500, 600, 800]\n"
     ]
    }
   ],
   "source": [
    "for j in range(len(lis)-1):\n",
    "    flag = 0\n",
    "    for i in range(len(lis)-1):\n",
    "        if lis[i]>lis[i+1]:\n",
    "            lis[i],lis[i+1] = lis[i+1],lis[i]\n",
    "            flag = 1\n",
    "#             print(lis)\n",
    "    if flag == 0:\n",
    "        break  \n",
    "print(lis)\n"
   ]
  },
  {
   "cell_type": "markdown",
   "metadata": {},
   "source": [
    "# Insertion Sort"
   ]
  },
  {
   "cell_type": "code",
   "execution_count": 41,
   "metadata": {},
   "outputs": [],
   "source": [
    "lis = [9,8,7,6,5,4]"
   ]
  },
  {
   "cell_type": "code",
   "execution_count": 42,
   "metadata": {},
   "outputs": [],
   "source": [
    "# lis = []\n",
    "# print(\"Enter the no. of items: \")\n",
    "# N = int(input())\n",
    "# for i in range(N):\n",
    "#     lis.append(int(input()))"
   ]
  },
  {
   "cell_type": "code",
   "execution_count": 43,
   "metadata": {},
   "outputs": [
    {
     "name": "stdout",
     "output_type": "stream",
     "text": [
      "[4, 5, 6, 7, 8, 9]\n"
     ]
    }
   ],
   "source": [
    "for i in range(1,len(lis)):\n",
    "    x = lis[i]\n",
    "    hole = i-1\n",
    "    while hole >= 0 and x < lis[hole]:\n",
    "        lis[hole+1] = lis[hole]\n",
    "        hole = hole-1\n",
    "#         print(lis)\n",
    "    lis[hole+1] = x\n",
    "print(lis)"
   ]
  },
  {
   "cell_type": "markdown",
   "metadata": {},
   "source": [
    "# Merge Sort"
   ]
  },
  {
   "cell_type": "code",
   "execution_count": 44,
   "metadata": {},
   "outputs": [],
   "source": [
    "a = [9,8,7,6,5,4,3,2,1,98]"
   ]
  },
  {
   "cell_type": "code",
   "execution_count": 45,
   "metadata": {},
   "outputs": [],
   "source": [
    "# a = []\n",
    "# print(\"Enter the no. of items: \")\n",
    "# N = int(input())\n",
    "# for i in range(N):\n",
    "#     a.append(int(input()))"
   ]
  },
  {
   "cell_type": "code",
   "execution_count": 46,
   "metadata": {},
   "outputs": [],
   "source": [
    "def merge(l,r,a):\n",
    "    ln = len(l)\n",
    "    rn = len(r)\n",
    "    i,j,k = 0,0,0\n",
    "    while i < ln and j < rn:\n",
    "        if l[i] <= r[j]:\n",
    "            a[k] = l[i]\n",
    "            i += 1\n",
    "        else:\n",
    "            a[k] = r[j]\n",
    "            j += 1\n",
    "        k += 1\n",
    "    while i < ln:\n",
    "        a[k] = l[i]\n",
    "        i += 1\n",
    "        k += 1\n",
    "    while j < rn:\n",
    "        a[k] = r[j]\n",
    "        k += 1\n",
    "        j += 1"
   ]
  },
  {
   "cell_type": "code",
   "execution_count": 47,
   "metadata": {},
   "outputs": [],
   "source": [
    "def mergesort(a):\n",
    "    n = len(a)\n",
    "    if n<2:\n",
    "        return a\n",
    "    mid = n//2\n",
    "    l = []\n",
    "    for i in range(mid):\n",
    "        l.append(a[i])\n",
    "    r = []\n",
    "    for i in range(mid,len(a)):\n",
    "        r.append(a[i])\n",
    "    mergesort(l)\n",
    "    mergesort(r)\n",
    "    merge(l,r,a)"
   ]
  },
  {
   "cell_type": "code",
   "execution_count": 48,
   "metadata": {},
   "outputs": [
    {
     "name": "stdout",
     "output_type": "stream",
     "text": [
      "[1, 2, 3, 4, 5, 6, 7, 8, 9, 98]\n"
     ]
    }
   ],
   "source": [
    "mergesort(a)\n",
    "print(a)"
   ]
  },
  {
   "cell_type": "markdown",
   "metadata": {},
   "source": [
    "# Quick Sort"
   ]
  },
  {
   "cell_type": "code",
   "execution_count": 49,
   "metadata": {},
   "outputs": [],
   "source": [
    "a = [345,43567,6,74567,67,3,545,6,46,45]"
   ]
  },
  {
   "cell_type": "code",
   "execution_count": 50,
   "metadata": {},
   "outputs": [],
   "source": [
    "# a = []\n",
    "# print(\"Enter the no. of items: \")\n",
    "# N = int(input())\n",
    "# for i in range(N):\n",
    "#     a.append(int(input()))"
   ]
  },
  {
   "cell_type": "code",
   "execution_count": 51,
   "metadata": {},
   "outputs": [],
   "source": [
    "import random\n",
    "\n",
    "# to minimize worst case\n",
    "\n",
    "def randomp(a,start,end):\n",
    "    pivotindex = random.randrange(start,end +1)\n",
    "    a[pivotindex],a[end] = a[end],a[pivotindex]\n",
    "    return partition(a,start,end)"
   ]
  },
  {
   "cell_type": "code",
   "execution_count": 52,
   "metadata": {},
   "outputs": [],
   "source": [
    "def partition(a,start,end):\n",
    "    pivot = a[end]\n",
    "    pindex = start\n",
    "    for i in range(start,end):\n",
    "        if a[i] <= pivot:\n",
    "            a[i],a[pindex] = a[pindex],a[i]\n",
    "            pindex = pindex + 1\n",
    "    a[pindex],a[end] = a[end],a[pindex]\n",
    "    return pindex"
   ]
  },
  {
   "cell_type": "code",
   "execution_count": 53,
   "metadata": {},
   "outputs": [],
   "source": [
    "def quicksort(a,start,end):\n",
    "    if start<end:    \n",
    "        pindex = randomp(a,start,end)\n",
    "        quicksort(a,start,pindex-1)\n",
    "        quicksort(a,pindex+1,end)\n",
    "    return a"
   ]
  },
  {
   "cell_type": "code",
   "execution_count": 54,
   "metadata": {},
   "outputs": [
    {
     "data": {
      "text/plain": [
       "[3, 6, 6, 45, 46, 67, 345, 545, 43567, 74567]"
      ]
     },
     "execution_count": 54,
     "metadata": {},
     "output_type": "execute_result"
    }
   ],
   "source": [
    "n = len(a)-1\n",
    "quicksort(a,0,n)"
   ]
  },
  {
   "cell_type": "code",
   "execution_count": null,
   "metadata": {},
   "outputs": [],
   "source": []
  }
 ],
 "metadata": {
  "kernelspec": {
   "display_name": "Python 3",
   "language": "python",
   "name": "python3"
  },
  "language_info": {
   "codemirror_mode": {
    "name": "ipython",
    "version": 3
   },
   "file_extension": ".py",
   "mimetype": "text/x-python",
   "name": "python",
   "nbconvert_exporter": "python",
   "pygments_lexer": "ipython3",
   "version": "3.7.2"
  }
 },
 "nbformat": 4,
 "nbformat_minor": 2
}
